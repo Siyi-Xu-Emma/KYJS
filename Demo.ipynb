{
 "cells": [
  {
   "cell_type": "markdown",
   "metadata": {},
   "source": [
    "# Qn1 Prediction of Usage of Materials"
   ]
  },
  {
   "cell_type": "markdown",
   "metadata": {},
   "source": [
    "## Part(a) Forecast model"
   ]
  },
  {
   "cell_type": "markdown",
   "metadata": {},
   "source": [
    "### Preparation"
   ]
  },
  {
   "cell_type": "markdown",
   "metadata": {},
   "source": [
    "Import necessary dependencies"
   ]
  },
  {
   "cell_type": "code",
   "execution_count": 1,
   "metadata": {},
   "outputs": [],
   "source": [
    "import pandas as pd\n",
    "import numpy as np\n",
    "import random"
   ]
  },
  {
   "cell_type": "markdown",
   "metadata": {},
   "source": [
    "### Model Overview"
   ]
  },
  {
   "cell_type": "markdown",
   "metadata": {},
   "source": [
    "* Time Series Simulation: \n",
    "  \n",
    "  To minimize wastage and ensure compatibility for future time series optimization, model training and data fitting, we choose not to split whole duration of 10 weeks into separate weeks(say, counting the usage of material per week), neither do we split the process into single batch renewals, instead we simulate time series per minute.\n",
    "\n",
    "  This\n",
    "* ProductList containing objects 'product':  \n",
    "  \n",
    "  Ensuring immutability of its intrinsic properties such as batchLife and loadSize.\n",
    "\n",
    "* Object 'tank': \n",
    "  \n",
    "  Ensuring flexibility through avoiding magic numbers such as tank size. Compatibility for future change of tank numbers and structures\n",
    "  "
   ]
  },
  {
   "cell_type": "markdown",
   "metadata": {},
   "source": [
    "### Object Classes"
   ]
  },
  {
   "cell_type": "code",
   "execution_count": null,
   "metadata": {},
   "outputs": [],
   "source": [
    "class Tank: \n",
    "    def __init__(self, size):\n",
    "        self.size = size\n",
    "        self.remainBatchLife = 1\n",
    "        self.processingStatus = 0\n",
    "        \n",
    "    def __str__(self):\n",
    "        return f\"tank sized {self.size}L\"\n",
    "    \n",
    "    def replenish(self, reclaimEfficiency):\n",
    "        self.remainBatchLife = 1\n",
    "        \n",
    "        return self.size * (1- reclaimEfficiency)\n",
    "    \n",
    "    def processOneBatch(self, product):\n",
    "        return 0\n",
    "    \n",
    "    def getRemainBatchLife(self):\n",
    "        return self.remainBatchLife\n",
    "    \n",
    "    def isProcessing(self):\n",
    "        return self.processingStatus\n",
    "    \n",
    "    def shiftProcessing(self):\n",
    "        self.processingStatus = not self.processingStatus\n",
    "    \n",
    "    def cutBatchLife(self, product):\n",
    "        self.remainBatchLife -= product.getCostPerBatch()\n",
    "\n",
    "class Product:\n",
    "    def __init__(self, id, batchLife, loadSize):\n",
    "        self.id = id\n",
    "        self.remain = 0\n",
    "        self.costPerBatch = 1 / batchLife\n",
    "        self.loadSize = loadSize\n",
    "        \n",
    "    def getId(self):\n",
    "        return self.id\n",
    "    \n",
    "    def getLoadSize(self):\n",
    "        return self.loadSize\n",
    "    \n",
    "    def __str__(self):\n",
    "        return f\"Product {self.id}\"\n",
    "    \n",
    "    def getCostPerBatch(self):\n",
    "        return self.costPerBatch"
   ]
  },
  {
   "cell_type": "markdown",
   "metadata": {},
   "source": [
    "### Constants and ReadData"
   ]
  },
  {
   "cell_type": "markdown",
   "metadata": {},
   "source": [
    "At this stage weekly demand of wafers are given and chemicalLife as fixed constant."
   ]
  },
  {
   "cell_type": "code",
   "execution_count": null,
   "metadata": {},
   "outputs": [],
   "source": [
    "# Constants\n",
    "WEEKMINS = 7 * 24 * 60 \n",
    "chemicalLife = 500\n",
    "# Read Data\n",
    "demand = pd.read_csv(\"Datasets/Weekly_Projections.csv\")"
   ]
  },
  {
   "cell_type": "markdown",
   "metadata": {},
   "source": []
  },
  {
   "cell_type": "markdown",
   "metadata": {},
   "source": [
    "## Part(b) Model training and fitting"
   ]
  },
  {
   "cell_type": "markdown",
   "metadata": {},
   "source": [
    "## Part(c) Long-term Prediction"
   ]
  },
  {
   "cell_type": "markdown",
   "metadata": {},
   "source": [
    "## Key Factors to Consider:\n",
    "\n",
    "* Demand Forecasting: Weekly projection prediction\n",
    "  \n",
    "* Supplier Reliability: Assess supplier capabilities, lead times, and potential disruptions to ensure a stable supply chain.\n",
    "* Storage Capacity: Evaluate storage facilities and capacity constraints to manage inventory effectively.\n",
    "* Reclaim Efficiency Optimization: Continuously improve reclaim efficiency to reduce chemical waste and costs.\n",
    "* Wastage minimization:\n"
   ]
  }
 ],
 "metadata": {
  "kernelspec": {
   "display_name": "Python 3",
   "language": "python",
   "name": "python3"
  },
  "language_info": {
   "codemirror_mode": {
    "name": "ipython",
    "version": 3
   },
   "file_extension": ".py",
   "mimetype": "text/x-python",
   "name": "python",
   "nbconvert_exporter": "python",
   "pygments_lexer": "ipython3",
   "version": "3.12.1"
  }
 },
 "nbformat": 4,
 "nbformat_minor": 2
}
