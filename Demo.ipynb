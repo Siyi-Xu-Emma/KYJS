{
 "cells": [
  {
   "cell_type": "markdown",
   "metadata": {},
   "source": [
    "# Qn1 Prediction of Usage of Materials"
   ]
  },
  {
   "cell_type": "markdown",
   "metadata": {},
   "source": [
    "## Part(a) Forecast model"
   ]
  },
  {
   "cell_type": "markdown",
   "metadata": {},
   "source": [
    "### Preparation"
   ]
  },
  {
   "cell_type": "markdown",
   "metadata": {},
   "source": [
    "Import necessary dependencies"
   ]
  },
  {
   "cell_type": "code",
   "execution_count": 1,
   "metadata": {},
   "outputs": [],
   "source": [
    "import pandas as pd\n",
    "import numpy as np\n",
    "import random"
   ]
  },
  {
   "cell_type": "markdown",
   "metadata": {},
   "source": [
    "### Model Overview"
   ]
  },
  {
   "cell_type": "markdown",
   "metadata": {},
   "source": [
    "* Time Series Simulation: \n",
    "  \n",
    "  To minimize wastage and ensure compatibility for future time series optimization, model training and data fitting, we choose not to split whole duration of 10 weeks into separate weeks(say, counting the usage of material per week), neither do we split the process into single batch renewals, instead we simulate time series per minute.\n",
    "\n",
    "  This\n",
    "* ProductList containing objects 'product':  \n",
    "  \n",
    "  Ensuring immutability of its intrinsic properties such as batchLife and loadSize.\n",
    "\n",
    "* Object 'tank': \n",
    "  \n",
    "  Ensuring flexibility through avoiding magic numbers such as tank size. Compatibility for future change of tank numbers and structures\n",
    "  "
   ]
  },
  {
   "cell_type": "markdown",
   "metadata": {},
   "source": [
    "### Object Classes"
   ]
  },
  {
   "cell_type": "markdown",
   "metadata": {},
   "source": [
    "## Part(b) Model training and fitting"
   ]
  },
  {
   "cell_type": "markdown",
   "metadata": {},
   "source": [
    "## Part(c) Long-term Prediction"
   ]
  },
  {
   "cell_type": "markdown",
   "metadata": {},
   "source": [
    "## Key Factors to Consider:\n",
    "\n",
    "* Demand Forecasting: Weekly projection prediction\n",
    "  \n",
    "* Supplier Reliability: Assess supplier capabilities, lead times, and potential disruptions to ensure a stable supply chain.\n",
    "* Storage Capacity: Evaluate storage facilities and capacity constraints to manage inventory effectively.\n",
    "* Reclaim Efficiency Optimization: Continuously improve reclaim efficiency to reduce chemical waste and costs.\n",
    "* Wastage minimization:\n"
   ]
  }
 ],
 "metadata": {
  "kernelspec": {
   "display_name": "Python 3",
   "language": "python",
   "name": "python3"
  },
  "language_info": {
   "codemirror_mode": {
    "name": "ipython",
    "version": 3
   },
   "file_extension": ".py",
   "mimetype": "text/x-python",
   "name": "python",
   "nbconvert_exporter": "python",
   "pygments_lexer": "ipython3",
   "version": "3.12.1"
  }
 },
 "nbformat": 4,
 "nbformat_minor": 2
}
